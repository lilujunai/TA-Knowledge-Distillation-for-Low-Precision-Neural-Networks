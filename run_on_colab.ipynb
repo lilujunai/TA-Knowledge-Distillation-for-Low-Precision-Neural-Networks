<<<<<<< Updated upstream
{
 "cells": [
  {
   "cell_type": "markdown",
   "metadata": {
    "colab_type": "text",
    "id": "aSV0o5z9r4dW"
   },
   "source": [
    "If local"
   ]
  },
  {
   "cell_type": "code",
   "execution_count": 1,
   "metadata": {
    "colab": {},
    "colab_type": "code",
    "id": "eC0TsmxdqZgf"
   },
   "outputs": [],
   "source": [
    "%reload_ext autoreload\n",
    "%autoreload 2"
   ]
  },
  {
   "cell_type": "markdown",
   "metadata": {
    "colab_type": "text",
    "id": "god5v5YIr6be"
   },
   "source": [
    "If on colab"
   ]
  },
  {
   "cell_type": "code",
   "execution_count": 1,
   "metadata": {
    "colab": {
     "base_uri": "https://localhost:8080/",
     "height": 122
    },
    "colab_type": "code",
    "executionInfo": {
     "elapsed": 24004,
     "status": "ok",
     "timestamp": 1585880933237,
     "user": {
      "displayName": "Brian Liao",
      "photoUrl": "https://lh3.googleusercontent.com/a-/AOh14GiXmlEcUgzbxAoiyXKrHB0v2n9y8uUxynb_KM4F=s64",
      "userId": "13952753708639407457"
     },
     "user_tz": 420
    },
    "id": "TOOYSzq8qeuZ",
    "outputId": "52edeb2f-71be-463c-d8ab-af1e6a1ffb84"
   },
   "outputs": [
    {
     "name": "stdout",
     "output_type": "stream",
     "text": [
      "Go to this URL in a browser: https://accounts.google.com/o/oauth2/auth?client_id=947318989803-6bn6qk8qdgf4n4g3pfee6491hc0brc4i.apps.googleusercontent.com&redirect_uri=urn%3aietf%3awg%3aoauth%3a2.0%3aoob&response_type=code&scope=email%20https%3a%2f%2fwww.googleapis.com%2fauth%2fdocs.test%20https%3a%2f%2fwww.googleapis.com%2fauth%2fdrive%20https%3a%2f%2fwww.googleapis.com%2fauth%2fdrive.photos.readonly%20https%3a%2f%2fwww.googleapis.com%2fauth%2fpeopleapi.readonly\n",
      "\n",
      "Enter your authorization code:\n",
      "··········\n",
      "Mounted at /content/gdrive\n"
     ]
    }
   ],
   "source": [
    "from google.colab import drive\n",
    "drive.mount('/content/gdrive', force_remount=True)"
   ]
  },
  {
   "cell_type": "code",
   "execution_count": 2,
   "metadata": {
    "colab": {
     "base_uri": "https://localhost:8080/",
     "height": 85
    },
    "colab_type": "code",
    "executionInfo": {
     "elapsed": 4381,
     "status": "ok",
     "timestamp": 1585880950733,
     "user": {
      "displayName": "Brian Liao",
      "photoUrl": "https://lh3.googleusercontent.com/a-/AOh14GiXmlEcUgzbxAoiyXKrHB0v2n9y8uUxynb_KM4F=s64",
      "userId": "13952753708639407457"
     },
     "user_tz": 420
    },
    "id": "cs_So8GWq19-",
    "outputId": "da5fe93b-455a-40b8-a9a8-bb1c1141f43c"
   },
   "outputs": [
    {
     "name": "stdout",
     "output_type": "stream",
     "text": [
      "/content/gdrive/My Drive/00-sp20/00-cs282/final_project/cs282_project\n",
      "cifar-100-python.tar.gz  main.py      requirements.txt\t  utils\n",
      "data\t\t\t __pycache__  resnet.py\n",
      "development.ipynb\t README.md    run_on_colab.ipynb\n"
     ]
    }
   ],
   "source": [
    "# for Brian's Google Drive\n",
    "%cd /content/gdrive/My\\ Drive/00-sp20/00-cs282/final_project/cs282_project\n",
    "!ls"
   ]
  },
  {
   "cell_type": "markdown",
   "metadata": {
    "colab_type": "text",
    "id": "Zq4vJhVWr-O9"
   },
   "source": [
    "Based on [Model Distillation with TAs repo](https://github.com/imirzadeh/Teacher-Assistant-Knowledge-Distillation)"
   ]
  },
  {
   "cell_type": "markdown",
   "metadata": {
    "colab_type": "text",
    "id": "bVLH4a42sJWW"
   },
   "source": [
    "## Example: 'resnet20' as teacher, 'resnet14' as TA, 'resnet8' as student on CIFAR100(using GPU)\n",
    "1. Train Teacher(Resnet20): This phase is not knowledge distillation. So there's no teacher and only a student trained alone.\n",
    "command: `!python3 main.py --epochs 160 --student resnet20 --cuda 1 --dataset cifar100`\n",
    "\n",
    "2. After first step, choose the weights which had best accuracy on valdiation data and train TA(Resnet14) with teacher (Resnet20) weights. Say the best resnet20 weights file was resnet20_XXXX_best.pth.tar\n",
    "command: `!python3 main.py --epochs 160 --teacher resnet20 --teacher-checkpoint ./resnet20_XXXX_best.pth.tar --student resnet14 --cuda 1 --dataset cifar100`\n",
    "\n",
    "3. Repeat like step two, distillate knowledge from TA to student (Teacher is resnet14, student is resnet8). Also, we assume the best weights from step two was resnet14_XXXX_best.pth.tar\n",
    "command: `!python3 main.py --epochs 160 --teacher resnet14 --teacher-checkpoint ./resnet14_XXXX_best.pth.tar --student resnet8 --cuda 1 --dataset cifar100`"
   ]
  },
  {
   "cell_type": "code",
   "execution_count": 3,
   "metadata": {
    "colab": {
     "base_uri": "https://localhost:8080/",
     "height": 190
    },
    "colab_type": "code",
    "executionInfo": {
     "elapsed": 20799,
     "status": "ok",
     "timestamp": 1585880983150,
     "user": {
      "displayName": "Brian Liao",
      "photoUrl": "https://lh3.googleusercontent.com/a-/AOh14GiXmlEcUgzbxAoiyXKrHB0v2n9y8uUxynb_KM4F=s64",
      "userId": "13952753708639407457"
     },
     "user_tz": 420
    },
    "id": "h7QaXK_lreQZ",
    "outputId": "8dfc42bc-167e-4525-9488-6cb7533830f8"
   },
   "outputs": [
    {
     "name": "stdout",
     "output_type": "stream",
     "text": [
      "Namespace(batch_size=128, cuda=True, dataset='cifar100', dataset_dir='./data', epochs=160, learning_rate=0.1, momentum=0.9, student='resnet20', teacher='', teacher_checkpoint='', test_run=False, trial_id='0', weight_decay=0.0001)\n",
      "---------- No Teacher -------------\n",
      "---------- Training Student -------\n",
      "Traceback (most recent call last):\n",
      "  File \"main.py\", line 31, in <module>\n",
      "    train_student(args, train_config, teacher_model)\n",
      "  File \"/content/gdrive/My Drive/00-sp20/00-cs282/final_project/cs282_project/utils/train_manager.py\", line 147, in train_student\n",
      "    train_loader, test_loader = get_dataset()\n",
      "TypeError: get_dataset() missing 1 required positional argument: 'dataset'\n"
     ]
    }
   ],
   "source": [
    "!python3 main.py --epochs 160 --student resnet20 --cuda 1 --dataset cifar100 --trial-id 0"
   ]
  },
  {
   "cell_type": "code",
   "execution_count": 0,
   "metadata": {
    "colab": {},
    "colab_type": "code",
    "id": "jU8WH9Tet0aP"
   },
   "outputs": [],
   "source": []
  }
 ],
 "metadata": {
  "accelerator": "GPU",
  "colab": {
   "authorship_tag": "ABX9TyPzKKYzavAwS17GvmMSedtI",
   "collapsed_sections": [],
   "name": "run_on_colab.ipynb",
   "provenance": []
  },
  "kernelspec": {
   "display_name": "Python 3",
   "language": "python",
   "name": "python3"
  },
  "language_info": {
   "codemirror_mode": {
    "name": "ipython",
    "version": 3
   },
   "file_extension": ".py",
   "mimetype": "text/x-python",
   "name": "python",
   "nbconvert_exporter": "python",
   "pygments_lexer": "ipython3",
   "version": "3.7.3"
  }
 },
 "nbformat": 4,
 "nbformat_minor": 1
}
=======
{"nbformat":4,"nbformat_minor":0,"metadata":{"colab":{"name":"run_on_colab.ipynb","provenance":[],"collapsed_sections":[],"authorship_tag":"ABX9TyM/FsiYWx+MwuOen/12B60F"},"kernelspec":{"name":"python3","display_name":"Python 3"},"accelerator":"GPU"},"cells":[{"cell_type":"markdown","metadata":{"id":"aSV0o5z9r4dW","colab_type":"text"},"source":["If local"]},{"cell_type":"code","metadata":{"id":"eC0TsmxdqZgf","colab_type":"code","colab":{}},"source":["%reload_ext autoreload\n","%autoreload 2"],"execution_count":0,"outputs":[]},{"cell_type":"markdown","metadata":{"id":"god5v5YIr6be","colab_type":"text"},"source":["If on colab"]},{"cell_type":"code","metadata":{"id":"TOOYSzq8qeuZ","colab_type":"code","colab":{"base_uri":"https://localhost:8080/","height":122},"outputId":"6d903870-6217-4bd8-a009-9ccd04b03026","executionInfo":{"status":"ok","timestamp":1585881088285,"user_tz":420,"elapsed":22818,"user":{"displayName":"Brian Liao","photoUrl":"https://lh3.googleusercontent.com/a-/AOh14GiXmlEcUgzbxAoiyXKrHB0v2n9y8uUxynb_KM4F=s64","userId":"13952753708639407457"}}},"source":["from google.colab import drive\n","drive.mount('/content/gdrive', force_remount=True)"],"execution_count":1,"outputs":[{"output_type":"stream","text":["Go to this URL in a browser: https://accounts.google.com/o/oauth2/auth?client_id=947318989803-6bn6qk8qdgf4n4g3pfee6491hc0brc4i.apps.googleusercontent.com&redirect_uri=urn%3aietf%3awg%3aoauth%3a2.0%3aoob&response_type=code&scope=email%20https%3a%2f%2fwww.googleapis.com%2fauth%2fdocs.test%20https%3a%2f%2fwww.googleapis.com%2fauth%2fdrive%20https%3a%2f%2fwww.googleapis.com%2fauth%2fdrive.photos.readonly%20https%3a%2f%2fwww.googleapis.com%2fauth%2fpeopleapi.readonly\n","\n","Enter your authorization code:\n","··········\n","Mounted at /content/gdrive\n"],"name":"stdout"}]},{"cell_type":"code","metadata":{"id":"cs_So8GWq19-","colab_type":"code","colab":{"base_uri":"https://localhost:8080/","height":85},"outputId":"be3aeab3-406d-4c6f-e566-a6eb83923469","executionInfo":{"status":"ok","timestamp":1585881097064,"user_tz":420,"elapsed":5574,"user":{"displayName":"Brian Liao","photoUrl":"https://lh3.googleusercontent.com/a-/AOh14GiXmlEcUgzbxAoiyXKrHB0v2n9y8uUxynb_KM4F=s64","userId":"13952753708639407457"}}},"source":["# for Brian's Google Drive\n","%cd /content/gdrive/My\\ Drive/00-sp20/00-cs282/final_project/cs282_project\n","!ls"],"execution_count":2,"outputs":[{"output_type":"stream","text":["/content/gdrive/My Drive/00-sp20/00-cs282/final_project/cs282_project\n","cifar-100-python.tar.gz  main.py      requirements.txt\t  utils\n","data\t\t\t __pycache__  resnet.py\n","development.ipynb\t README.md    run_on_colab.ipynb\n"],"name":"stdout"}]},{"cell_type":"markdown","metadata":{"id":"Zq4vJhVWr-O9","colab_type":"text"},"source":["Based on [Model Distillation with TAs repo](https://github.com/imirzadeh/Teacher-Assistant-Knowledge-Distillation)"]},{"cell_type":"markdown","metadata":{"id":"bVLH4a42sJWW","colab_type":"text"},"source":["## Example: 'resnet20' as teacher, 'resnet14' as TA, 'resnet8' as student on CIFAR100(using GPU)\n","1. Train Teacher(Resnet20): This phase is not knowledge distillation. So there's no teacher and only a student trained alone.\n","command: `!python3 main.py --epochs 160 --student resnet20 --cuda 1 --dataset cifar100`\n","\n","2. After first step, choose the weights which had best accuracy on valdiation data and train TA(Resnet14) with teacher (Resnet20) weights. Say the best resnet20 weights file was resnet20_XXXX_best.pth.tar\n","command: `!python3 main.py --epochs 160 --teacher resnet20 --teacher-checkpoint ./resnet20_XXXX_best.pth.tar --student resnet14 --cuda 1 --dataset cifar100`\n","\n","3. Repeat like step two, distillate knowledge from TA to student (Teacher is resnet14, student is resnet8). Also, we assume the best weights from step two was resnet14_XXXX_best.pth.tar\n","command: `!python3 main.py --epochs 160 --teacher resnet14 --teacher-checkpoint ./resnet14_XXXX_best.pth.tar --student resnet8 --cuda 1 --dataset cifar100`"]},{"cell_type":"code","metadata":{"id":"h7QaXK_lreQZ","colab_type":"code","colab":{"base_uri":"https://localhost:8080/","height":642},"outputId":"ef090ae9-2a96-4a07-94cf-5011e513c591"},"source":["!python3 main.py \\\n","  --epochs 160 \\\n","  --student resnet20 \\\n","  --cuda 1 \\\n","  --dataset cifar100 \\\n","  --trial-id 0"],"execution_count":0,"outputs":[{"output_type":"stream","text":["Namespace(batch_size=128, cuda=True, dataset='cifar100', dataset_dir='./data', epochs=160, learning_rate=0.1, momentum=0.9, student='resnet20', teacher='', teacher_checkpoint='', test_run=False, trial_id='0', weight_decay=0.0001)\n","---------- No Teacher -------------\n","---------- Training Student -------\n","Files already downloaded and verified\n","epoch 0/160\n","{\"metric\": \"resnet20_val_accuracy\", \"value\": 8.72}\n","epoch 1/160\n","{\"metric\": \"resnet20_val_accuracy\", \"value\": 15.46}\n","epoch 2/160\n","{\"metric\": \"resnet20_val_accuracy\", \"value\": 16.77}\n","epoch 3/160\n","{\"metric\": \"resnet20_val_accuracy\", \"value\": 20.76}\n","epoch 4/160\n","{\"metric\": \"resnet20_val_accuracy\", \"value\": 25.47}\n","epoch 5/160\n","{\"metric\": \"resnet20_val_accuracy\", \"value\": 27.06}\n","epoch 6/160\n","{\"metric\": \"resnet20_val_accuracy\", \"value\": 28.74}\n","epoch 7/160\n","{\"metric\": \"resnet20_val_accuracy\", \"value\": 27.67}\n","epoch 8/160\n","{\"metric\": \"resnet20_val_accuracy\", \"value\": 35.2}\n","epoch 9/160\n","{\"metric\": \"resnet20_val_accuracy\", \"value\": 35.36}\n","epoch 10/160\n","{\"metric\": \"resnet20_val_accuracy\", \"value\": 39.1}\n","epoch 11/160\n","{\"metric\": \"resnet20_val_accuracy\", \"value\": 38.12}\n","epoch 12/160\n","{\"metric\": \"resnet20_val_accuracy\", \"value\": 42.43}\n","epoch 13/160\n","{\"metric\": \"resnet20_val_accuracy\", \"value\": 43.94}\n","epoch 14/160\n","{\"metric\": \"resnet20_val_accuracy\", \"value\": 40.44}\n"],"name":"stdout"}]},{"cell_type":"code","metadata":{"id":"jU8WH9Tet0aP","colab_type":"code","colab":{}},"source":[""],"execution_count":0,"outputs":[]}]}
>>>>>>> Stashed changes
